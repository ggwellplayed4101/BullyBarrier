{
 "cells": [
  {
   "cell_type": "markdown",
   "id": "b2935b02",
   "metadata": {},
   "source": [
    "# 1. Setup and Dependencies"
   ]
  },
  {
   "cell_type": "code",
   "execution_count": 100,
   "id": "a2198cbd",
   "metadata": {},
   "outputs": [],
   "source": [
    "import joblib\n",
    "import pandas as pd\n",
    "from sklearn.model_selection import train_test_split\n",
    "from sklearn.linear_model import LogisticRegression\n",
    "from sklearn.metrics import classification_report, confusion_matrix\n"
   ]
  },
  {
   "cell_type": "markdown",
   "id": "1e82911f",
   "metadata": {},
   "source": [
    "## 2. # Load TF-IDF matrix and vectorizer"
   ]
  },
  {
   "cell_type": "code",
   "execution_count": 101,
   "id": "6963dad0",
   "metadata": {},
   "outputs": [],
   "source": [
    "X = joblib.load('../data/processed/tfidf_matrix.pkl')\n",
    "vectorizer = joblib.load('../models/tfidf_vectorizer.pkl')"
   ]
  },
  {
   "cell_type": "markdown",
   "id": "234acfca",
   "metadata": {},
   "source": [
    "## 3. Load labels"
   ]
  },
  {
   "cell_type": "code",
   "execution_count": 102,
   "id": "75c13433",
   "metadata": {},
   "outputs": [],
   "source": [
    "df = pd.read_csv('../data/processed/cleaned_data.csv')\n",
    "labels = df['label']\n",
    "\n"
   ]
  },
  {
   "cell_type": "markdown",
   "id": "eb563e75",
   "metadata": {},
   "source": [
    "## 4. Split data (stratified)"
   ]
  },
  {
   "cell_type": "code",
   "execution_count": 103,
   "id": "a1fea22a",
   "metadata": {},
   "outputs": [],
   "source": [
    "X_train, X_test, y_train, y_test = train_test_split(\n",
    "    X, labels, test_size=0.2, random_state=42, stratify=labels\n",
    ")"
   ]
  },
  {
   "cell_type": "markdown",
   "id": "bff5746a",
   "metadata": {},
   "source": [
    "## 5. Train Logistic Regression model"
   ]
  },
  {
   "cell_type": "code",
   "execution_count": 104,
   "id": "c435f3eb",
   "metadata": {},
   "outputs": [
    {
     "name": "stdout",
     "output_type": "stream",
     "text": [
      "LogisticRegression(class_weight='balanced', max_iter=1000)\n"
     ]
    }
   ],
   "source": [
    "model = LogisticRegression(max_iter=1000, class_weight='balanced')\n",
    "model.fit(X_train, y_train)\n",
    "print (model)"
   ]
  },
  {
   "cell_type": "markdown",
   "id": "43d07800",
   "metadata": {},
   "source": [
    "## 6. Predict and evaluate"
   ]
  },
  {
   "cell_type": "code",
   "execution_count": 105,
   "id": "b816a967",
   "metadata": {},
   "outputs": [
    {
     "name": "stdout",
     "output_type": "stream",
     "text": [
      "              precision    recall  f1-score   support\n",
      "\n",
      "           0       0.91      0.97      0.94       118\n",
      "           1       0.60      0.35      0.44        17\n",
      "\n",
      "    accuracy                           0.89       135\n",
      "   macro avg       0.76      0.66      0.69       135\n",
      "weighted avg       0.87      0.89      0.88       135\n",
      "\n",
      "[[114   4]\n",
      " [ 11   6]]\n"
     ]
    }
   ],
   "source": [
    "y_pred = model.predict(X_test)\n",
    "print(classification_report(y_test, y_pred))\n",
    "print(confusion_matrix(y_test, y_pred))"
   ]
  },
  {
   "cell_type": "markdown",
   "id": "d30cd5b3",
   "metadata": {},
   "source": [
    "## 7. Save trained model"
   ]
  },
  {
   "cell_type": "code",
   "execution_count": 106,
   "id": "e51a948f",
   "metadata": {},
   "outputs": [
    {
     "name": "stdout",
     "output_type": "stream",
     "text": [
      "Model saved with SMOTE.\n"
     ]
    }
   ],
   "source": [
    "joblib.dump(model, '../models/logistic_regression_model.pkl')\n",
    "print(\"Model saved with SMOTE.\")\n",
    "df = df.loc[:, ~df.columns.str.contains('^Unnamed')]\n"
   ]
  }
 ],
 "metadata": {
  "kernelspec": {
   "display_name": ".venv",
   "language": "python",
   "name": "python3"
  },
  "language_info": {
   "codemirror_mode": {
    "name": "ipython",
    "version": 3
   },
   "file_extension": ".py",
   "mimetype": "text/x-python",
   "name": "python",
   "nbconvert_exporter": "python",
   "pygments_lexer": "ipython3",
   "version": "3.13.2"
  }
 },
 "nbformat": 4,
 "nbformat_minor": 5
}
