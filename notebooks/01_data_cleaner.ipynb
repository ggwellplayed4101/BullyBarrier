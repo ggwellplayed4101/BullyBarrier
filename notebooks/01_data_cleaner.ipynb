{
 "cells": [
  {
   "cell_type": "markdown",
   "id": "caa0da5f",
   "metadata": {},
   "source": [
    "# Notebook 1: Clean Data"
   ]
  },
  {
   "cell_type": "markdown",
   "id": "7fec4ebd",
   "metadata": {},
   "source": [
    "## 1. Setup and Add Dependencies "
   ]
  },
  {
   "cell_type": "code",
   "execution_count": 8,
   "id": "0d7d3ff4",
   "metadata": {},
   "outputs": [],
   "source": [
    "import sys\n",
    "import os\n",
    "sys.path.append('../src')"
   ]
  },
  {
   "cell_type": "markdown",
   "id": "323897a5",
   "metadata": {
    "vscode": {
     "languageId": "plaintext"
    }
   },
   "source": [
    "## 2. Show first 10 lines in raw data"
   ]
  },
  {
   "cell_type": "code",
   "execution_count": 9,
   "id": "e10aa899",
   "metadata": {},
   "outputs": [],
   "source": [
    "with open(r\"..\\data\\raw\\data_raw.txt\", \"r\", encoding=\"utf-8\") as f:\n",
    "    lines = f.readlines()"
   ]
  },
  {
   "cell_type": "code",
   "execution_count": 10,
   "id": "70b5ec86",
   "metadata": {},
   "outputs": [
    {
     "name": "stdout",
     "output_type": "stream",
     "text": [
      "1: {'Imagine how many have done this already and got away with entering ': False,\n",
      "2: \"JW filed a FOIA lawsuit against State Treasury seeking answers on Obama Admin's $400 million cash pymt to Iran. \": False,\n",
      "3: 'I am curious as to how many priests impregnanted young girls and used abortion to ': False,\n",
      "4: 'Should read blames Obama, diminishes the intelligence community and slams CNN and ': False,\n",
      "5: 'Global Payroll Specialist Assistant Manager, Dublin - ': False,\n",
      "6: 'White gay: but I thought the b in lgbt stands for babadook ': True,\n",
      "7: 'Dear you - your husband worked the rescue boats in the Med. Plse may we chat off record katie@katiehopkins.co.uk ': False,\n",
      "8: 'They were conducted by two priests to a bench placed in front of the house in the open ': False,\n",
      "9: 'No body can convince me that Barak Hussein Obama was working to weaken America since his ideology is well known and it is compared to ': False,\n",
      "10: 'Trump: Obama Knew About Election Meddling Back In Early August And Did Nothi (pls ️️ ': False,\n"
     ]
    }
   ],
   "source": [
    "for i, line in enumerate(lines[:10]):\n",
    "    print(f\"{i+1}: {line.strip()}\")"
   ]
  },
  {
   "cell_type": "markdown",
   "id": "35806922",
   "metadata": {},
   "source": [
    "## 3. Clean & Load data into clean_data.csv"
   ]
  },
  {
   "cell_type": "code",
   "execution_count": 11,
   "id": "bcd87f0c",
   "metadata": {},
   "outputs": [
    {
     "name": "stdout",
     "output_type": "stream",
     "text": [
      "[INFO] Cleaned data saved to: ..\\data\\processed\\cleaned_data.csv\n"
     ]
    },
    {
     "data": {
      "text/html": [
       "<div>\n",
       "<style scoped>\n",
       "    .dataframe tbody tr th:only-of-type {\n",
       "        vertical-align: middle;\n",
       "    }\n",
       "\n",
       "    .dataframe tbody tr th {\n",
       "        vertical-align: top;\n",
       "    }\n",
       "\n",
       "    .dataframe thead th {\n",
       "        text-align: right;\n",
       "    }\n",
       "</style>\n",
       "<table border=\"1\" class=\"dataframe\">\n",
       "  <thead>\n",
       "    <tr style=\"text-align: right;\">\n",
       "      <th></th>\n",
       "      <th>text</th>\n",
       "      <th>label</th>\n",
       "    </tr>\n",
       "  </thead>\n",
       "  <tbody>\n",
       "    <tr>\n",
       "      <th>0</th>\n",
       "      <td>Imagine how many have done this already and go...</td>\n",
       "      <td>0</td>\n",
       "    </tr>\n",
       "    <tr>\n",
       "      <th>1</th>\n",
       "      <td>JW filed a FOIA lawsuit against State Treasury...</td>\n",
       "      <td>0</td>\n",
       "    </tr>\n",
       "    <tr>\n",
       "      <th>2</th>\n",
       "      <td>I am curious as to how many priests impregnant...</td>\n",
       "      <td>0</td>\n",
       "    </tr>\n",
       "    <tr>\n",
       "      <th>3</th>\n",
       "      <td>Should read blames Obama, diminishes the intel...</td>\n",
       "      <td>0</td>\n",
       "    </tr>\n",
       "    <tr>\n",
       "      <th>4</th>\n",
       "      <td>Global Payroll Specialist Assistant Manager, D...</td>\n",
       "      <td>0</td>\n",
       "    </tr>\n",
       "  </tbody>\n",
       "</table>\n",
       "</div>"
      ],
      "text/plain": [
       "                                                text  label\n",
       "0  Imagine how many have done this already and go...      0\n",
       "1  JW filed a FOIA lawsuit against State Treasury...      0\n",
       "2  I am curious as to how many priests impregnant...      0\n",
       "3  Should read blames Obama, diminishes the intel...      0\n",
       "4  Global Payroll Specialist Assistant Manager, D...      0"
      ]
     },
     "execution_count": 11,
     "metadata": {},
     "output_type": "execute_result"
    }
   ],
   "source": [
    "from data_cleaner import clean_raw_data\n",
    "\n",
    "input_path = r\"..\\data\\raw\\data_raw.txt\"\n",
    "output_path = r\"..\\data\\processed\\cleaned_data.csv\"\n",
    "\n",
    "df = clean_raw_data(input_path, output_path)\n",
    "df.head()\n"
   ]
  },
  {
   "cell_type": "markdown",
   "id": "17b77a9e",
   "metadata": {},
   "source": [
    "## 4. Re-Index the Data"
   ]
  },
  {
   "cell_type": "code",
   "execution_count": 12,
   "id": "f7e10761",
   "metadata": {},
   "outputs": [
    {
     "name": "stdout",
     "output_type": "stream",
     "text": [
      "<class 'pandas.core.frame.DataFrame'>\n",
      "Index: 674 entries, 0 to 677\n",
      "Data columns (total 2 columns):\n",
      " #   Column  Non-Null Count  Dtype \n",
      "---  ------  --------------  ----- \n",
      " 0   text    674 non-null    object\n",
      " 1   label   674 non-null    int64 \n",
      "dtypes: int64(1), object(1)\n",
      "memory usage: 15.8+ KB\n",
      "None\n"
     ]
    }
   ],
   "source": [
    "print(df.info())"
   ]
  },
  {
   "cell_type": "code",
   "execution_count": 13,
   "id": "9cd63571",
   "metadata": {},
   "outputs": [
    {
     "name": "stdout",
     "output_type": "stream",
     "text": [
      "<class 'pandas.core.frame.DataFrame'>\n",
      "RangeIndex: 674 entries, 0 to 673\n",
      "Data columns (total 2 columns):\n",
      " #   Column  Non-Null Count  Dtype \n",
      "---  ------  --------------  ----- \n",
      " 0   text    674 non-null    object\n",
      " 1   label   674 non-null    int64 \n",
      "dtypes: int64(1), object(1)\n",
      "memory usage: 10.7+ KB\n",
      "None\n"
     ]
    }
   ],
   "source": [
    "df.reset_index(drop=True, inplace=True)\n",
    "print(df.info())"
   ]
  }
 ],
 "metadata": {
  "kernelspec": {
   "display_name": ".venv",
   "language": "python",
   "name": "python3"
  },
  "language_info": {
   "codemirror_mode": {
    "name": "ipython",
    "version": 3
   },
   "file_extension": ".py",
   "mimetype": "text/x-python",
   "name": "python",
   "nbconvert_exporter": "python",
   "pygments_lexer": "ipython3",
   "version": "3.13.2"
  }
 },
 "nbformat": 4,
 "nbformat_minor": 5
}
