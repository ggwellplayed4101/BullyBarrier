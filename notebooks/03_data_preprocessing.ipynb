{
 "cells": [
  {
   "cell_type": "markdown",
   "id": "689a13e5",
   "metadata": {},
   "source": [
    "## 1. Setup and Dependencies"
   ]
  },
  {
   "cell_type": "code",
   "execution_count": 66,
   "id": "3e90eabd",
   "metadata": {},
   "outputs": [],
   "source": [
    "import pandas as pd\n",
    "from pathlib import Path\n",
    "import sys\n",
    "sys.path.append(str(Path('../src').resolve()))\n",
    "from data_preprocessing import clean_text, tokenize, vectorize_text\n",
    "import joblib"
   ]
  },
  {
   "cell_type": "markdown",
   "id": "4f0e3896",
   "metadata": {},
   "source": [
    "## 2. Load your cleaned data"
   ]
  },
  {
   "cell_type": "code",
   "execution_count": 67,
   "id": "dcfeea68",
   "metadata": {},
   "outputs": [
    {
     "name": "stdout",
     "output_type": "stream",
     "text": [
      "<class 'pandas.core.frame.DataFrame'>\n",
      "RangeIndex: 674 entries, 0 to 673\n",
      "Data columns (total 5 columns):\n",
      " #   Column        Non-Null Count  Dtype \n",
      "---  ------        --------------  ----- \n",
      " 0   Unnamed: 0.1  674 non-null    int64 \n",
      " 1   Unnamed: 0    674 non-null    int64 \n",
      " 2   text          674 non-null    object\n",
      " 3   label         674 non-null    int64 \n",
      " 4   cleaned_text  674 non-null    object\n",
      "dtypes: int64(3), object(2)\n",
      "memory usage: 26.5+ KB\n"
     ]
    }
   ],
   "source": [
    "df = pd.read_csv('../data/processed/cleaned_data.csv')\n",
    "df.info()"
   ]
  },
  {
   "cell_type": "markdown",
   "id": "0aa2598b",
   "metadata": {},
   "source": [
    "## 3. Clean Data"
   ]
  },
  {
   "cell_type": "code",
   "execution_count": 68,
   "id": "6f2166c7",
   "metadata": {},
   "outputs": [
    {
     "name": "stdout",
     "output_type": "stream",
     "text": [
      "<class 'pandas.core.series.Series'>\n",
      "RangeIndex: 674 entries, 0 to 673\n",
      "Series name: cleaned_text\n",
      "Non-Null Count  Dtype \n",
      "--------------  ----- \n",
      "674 non-null    object\n",
      "dtypes: object(1)\n",
      "memory usage: 5.4+ KB\n"
     ]
    }
   ],
   "source": [
    "df['cleaned_text'] = df['text'].apply(clean_text)\n",
    "df.to_csv('../data/processed/cleaned_data.csv', index=False)\n",
    "df['cleaned_text'].info()"
   ]
  },
  {
   "cell_type": "markdown",
   "id": "fe8205cd",
   "metadata": {},
   "source": [
    "# 4. Vectorize"
   ]
  },
  {
   "cell_type": "code",
   "execution_count": 69,
   "id": "e7da7c38",
   "metadata": {},
   "outputs": [
    {
     "data": {
      "text/plain": [
       "{(674, 2505)}"
      ]
     },
     "execution_count": 69,
     "metadata": {},
     "output_type": "execute_result"
    }
   ],
   "source": [
    "X, vectorizer = vectorize_text(df['cleaned_text'])\n",
    "{X.shape}"
   ]
  },
  {
   "cell_type": "markdown",
   "id": "06ac1471",
   "metadata": {},
   "source": [
    "## 5. Save TF-IDF matrix and vectorizer"
   ]
  },
  {
   "cell_type": "code",
   "execution_count": 70,
   "id": "bd38e9a7",
   "metadata": {},
   "outputs": [
    {
     "data": {
      "text/plain": [
       "['../models/tfidf_vectorizer.pkl']"
      ]
     },
     "execution_count": 70,
     "metadata": {},
     "output_type": "execute_result"
    }
   ],
   "source": [
    "joblib.dump(X, '../data/processed/tfidf_matrix.pkl')\n",
    "joblib.dump(vectorizer, '../models/tfidf_vectorizer.pkl')"
   ]
  }
 ],
 "metadata": {
  "kernelspec": {
   "display_name": ".venv",
   "language": "python",
   "name": "python3"
  },
  "language_info": {
   "codemirror_mode": {
    "name": "ipython",
    "version": 3
   },
   "file_extension": ".py",
   "mimetype": "text/x-python",
   "name": "python",
   "nbconvert_exporter": "python",
   "pygments_lexer": "ipython3",
   "version": "3.13.2"
  }
 },
 "nbformat": 4,
 "nbformat_minor": 5
}
