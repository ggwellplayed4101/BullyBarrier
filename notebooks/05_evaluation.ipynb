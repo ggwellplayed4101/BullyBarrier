{
 "cells": [
  {
   "cell_type": "markdown",
   "id": "ddcf5523",
   "metadata": {},
   "source": [
    "## 1. Setup and Dependencies"
   ]
  },
  {
   "cell_type": "code",
   "execution_count": 24,
   "id": "c11a73fa",
   "metadata": {},
   "outputs": [],
   "source": [
    "import pandas as pd\n",
    "import joblib\n",
    "from sklearn.metrics import classification_report, confusion_matrix, ConfusionMatrixDisplay\n",
    "import matplotlib.pyplot as plt"
   ]
  },
  {
   "cell_type": "markdown",
   "id": "e16669fa",
   "metadata": {},
   "source": [
    "## 2. Load vectorizer and model"
   ]
  },
  {
   "cell_type": "code",
   "execution_count": 25,
   "id": "ecce73ef",
   "metadata": {},
   "outputs": [],
   "source": [
    "vectorizer = joblib.load('../models/tfidf_vectorizer.pkl')\n",
    "model = joblib.load('../models/logistic_regression_model.pkl')"
   ]
  },
  {
   "cell_type": "markdown",
   "id": "cd372f9a",
   "metadata": {},
   "source": [
    "## 3. Load processed data"
   ]
  },
  {
   "cell_type": "code",
   "execution_count": 26,
   "id": "d501d6fa",
   "metadata": {},
   "outputs": [
    {
     "name": "stdout",
     "output_type": "stream",
     "text": [
      "Index(['Unnamed: 0.1', 'Unnamed: 0', 'text', 'label', 'cleaned_text'], dtype='object')\n"
     ]
    }
   ],
   "source": [
    "df = pd.read_csv('../data/processed/cleaned_data.csv')\n",
    "print(df.columns)"
   ]
  },
  {
   "cell_type": "markdown",
   "id": "501fee1b",
   "metadata": {},
   "source": [
    "## 4. Transform cleaned text into vector"
   ]
  },
  {
   "cell_type": "code",
   "execution_count": 27,
   "id": "f03fce96",
   "metadata": {},
   "outputs": [],
   "source": [
    "X = vectorizer.transform(df['cleaned_text'])"
   ]
  },
  {
   "cell_type": "markdown",
   "id": "58e80b0b",
   "metadata": {},
   "source": [
    "## 5. Split into train/test"
   ]
  },
  {
   "cell_type": "code",
   "execution_count": 28,
   "id": "950ecc79",
   "metadata": {},
   "outputs": [],
   "source": [
    "from sklearn.model_selection import train_test_split\n",
    "\n",
    "X_train, X_test, y_train, y_test = train_test_split(\n",
    "    X, df['label'], test_size=0.2, random_state=42, stratify=df['label']\n",
    ")"
   ]
  },
  {
   "cell_type": "markdown",
   "id": "f4ee64cf",
   "metadata": {},
   "source": [
    "# 6. Predict on the test set and evaluate"
   ]
  },
  {
   "cell_type": "code",
   "execution_count": 29,
   "id": "cde692d6",
   "metadata": {},
   "outputs": [
    {
     "name": "stdout",
     "output_type": "stream",
     "text": [
      "Classification Report:\n",
      "               precision    recall  f1-score   support\n",
      "\n",
      "           0       0.91      0.97      0.94       118\n",
      "           1       0.60      0.35      0.44        17\n",
      "\n",
      "    accuracy                           0.89       135\n",
      "   macro avg       0.76      0.66      0.69       135\n",
      "weighted avg       0.87      0.89      0.88       135\n",
      "\n",
      "Confusion Matrix:\n",
      " [[114   4]\n",
      " [ 11   6]]\n"
     ]
    },
    {
     "data": {
      "image/png": "[encoded data removed]",
      "text/plain": [
       "<Figure size 640x480 with 2 Axes>"
      ]
     },
     "metadata": {},
     "output_type": "display_data"
    }
   ],
   "source": [
    "y_pred = model.predict(X_test)\n",
    "\n",
    "from sklearn.metrics import classification_report, confusion_matrix, ConfusionMatrixDisplay\n",
    "import matplotlib.pyplot as plt\n",
    "\n",
    "print(\"Classification Report:\\n\", classification_report(y_test, y_pred))\n",
    "print(\"Confusion Matrix:\\n\", confusion_matrix(y_test, y_pred))\n",
    "\n",
    "disp = ConfusionMatrixDisplay.from_estimator(model, X_test, y_test, cmap='Blues')\n",
    "disp.ax_.set_title(\"Confusion Matrix - Logistic Regression\")\n",
    "plt.show()"
   ]
  }
 ],
 "metadata": {
  "kernelspec": {
   "display_name": ".venv",
   "language": "python",
   "name": "python3"
  },
  "language_info": {
   "codemirror_mode": {
    "name": "ipython",
    "version": 3
   },
   "file_extension": ".py",
   "mimetype": "text/x-python",
   "name": "python",
   "nbconvert_exporter": "python",
   "pygments_lexer": "ipython3",
   "version": "3.13.2"
  }
 },
 "nbformat": 4,
 "nbformat_minor": 5
}
