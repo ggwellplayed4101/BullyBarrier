{
 "cells": [
  {
   "cell_type": "markdown",
   "id": "caa0da5f",
   "metadata": {},
   "source": [
    "# Explore Data"
   ]
  },
  {
   "cell_type": "markdown",
   "id": "323897a5",
   "metadata": {
    "vscode": {
     "languageId": "plaintext"
    }
   },
   "source": [
    "# Read the raw lines"
   ]
  },
  {
   "cell_type": "code",
   "execution_count": 3,
   "id": "e10aa899",
   "metadata": {},
   "outputs": [],
   "source": [
    "with open(r\"..\\data\\raw\\data_raw.txt\", \"r\", encoding=\"utf-8\") as f:\n",
    "    lines = f.readlines()"
   ]
  },
  {
   "cell_type": "markdown",
   "id": "d6f9925c",
   "metadata": {},
   "source": [
    "# Show first 10 lines"
   ]
  },
  {
   "cell_type": "code",
   "execution_count": 4,
   "id": "70b5ec86",
   "metadata": {},
   "outputs": [
    {
     "name": "stdout",
     "output_type": "stream",
     "text": [
      "1: {'Imagine how many have done this already and got away with entering ': False,\n",
      "2: \"JW filed a FOIA lawsuit against State Treasury seeking answers on Obama Admin's $400 million cash pymt to Iran. \": False,\n",
      "3: 'I am curious as to how many priests impregnanted young girls and used abortion to ': False,\n",
      "4: 'Should read blames Obama, diminishes the intelligence community and slams CNN and ': False,\n",
      "5: 'Global Payroll Specialist Assistant Manager, Dublin - ': False,\n",
      "6: 'White gay: but I thought the b in lgbt stands for babadook ': True,\n",
      "7: 'Dear you - your husband worked the rescue boats in the Med. Plse may we chat off record katie@katiehopkins.co.uk ': False,\n",
      "8: 'They were conducted by two priests to a bench placed in front of the house in the open ': False,\n",
      "9: 'No body can convince me that Barak Hussein Obama was working to weaken America since his ideology is well known and it is compared to ': False,\n",
      "10: 'Trump: Obama Knew About Election Meddling Back In Early August And Did Nothi (pls ️️ ': False,\n"
     ]
    }
   ],
   "source": [
    "for i, line in enumerate(lines[:10]):\n",
    "    print(f\"{i+1}: {line.strip()}\")"
   ]
  }
 ],
 "metadata": {
  "kernelspec": {
   "display_name": ".venv",
   "language": "python",
   "name": "python3"
  },
  "language_info": {
   "codemirror_mode": {
    "name": "ipython",
    "version": 3
   },
   "file_extension": ".py",
   "mimetype": "text/x-python",
   "name": "python",
   "nbconvert_exporter": "python",
   "pygments_lexer": "ipython3",
   "version": "3.13.2"
  }
 },
 "nbformat": 4,
 "nbformat_minor": 5
}
